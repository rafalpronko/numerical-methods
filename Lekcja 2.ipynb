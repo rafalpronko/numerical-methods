{
 "cells": [
  {
   "cell_type": "markdown",
   "metadata": {},
   "source": [
    "#Lekcja 2\n",
    "\n",
    "Rozwiązywanie równań nie liniowych. Na zajęciach korzystamy z wykładów - jeśli ktoś woli można też drugie zadanie rozwiązać na podstawie: http://www.if.pw.edu.pl/~agatka/numeryczne/wyklad_06.pdf\n",
    "\n",
    "Zadanie 1.\n",
    "Rozwiązanie równania nieliniowego postaci: $x^3-x^2 + x - 1 = 0$ . \n",
    "Należy:\n",
    "1. Rozwiązać równanie znanymi metodami (na kartkach aby znać wynik rozwiązania) - grupowanie wyrazów lub dzielenie wielomianu\n",
    "2. Napisać program do rozwiązania tego równania metodą Newtona\n",
    "3. Napisać program do rozwiązania tego równania metodą Reguła Falsi\n",
    "4. Przeprowadzić eksperymenty - która z metod jest szybciej zbieżna do prawdziwego wyniku?\n",
    "\n",
    "Zadanie 2\n",
    "Wykonaj różniczkowanie dowolnej funkcji metodą dwupunktową, trzy punktową. Oceń która z metod jest lepsza i dlaczego?"
   ]
  },
  {
   "cell_type": "markdown",
   "metadata": {},
   "source": [
    "Zadanie 1 - przykładowa definicja funkcji"
   ]
  },
  {
   "cell_type": "code",
   "execution_count": 1,
   "metadata": {
    "collapsed": true
   },
   "outputs": [],
   "source": [
    "def f(x):\n",
    "    return x ** 3 - x ** 2 + x - 1\n",
    "    "
   ]
  },
  {
   "cell_type": "code",
   "execution_count": 3,
   "metadata": {
    "collapsed": false
   },
   "outputs": [
    {
     "name": "stdout",
     "output_type": "stream",
     "text": [
      "5\n"
     ]
    }
   ],
   "source": [
    "print f(2)"
   ]
  },
  {
   "cell_type": "markdown",
   "metadata": {},
   "source": [
    "Zadanie 2 - przykładowe implementacje obu reguł"
   ]
  },
  {
   "cell_type": "code",
   "execution_count": 36,
   "metadata": {
    "collapsed": true
   },
   "outputs": [],
   "source": [
    "from __future__ import division\n",
    "def f(x):\n",
    "    return x ** 10 - x **15 + x**3 + 5\n",
    "\n",
    "def dwupunktowa(x, h):\n",
    "    return (f(x+h) - f(x)) / h\n",
    "\n",
    "def trzypunktowa(x,h):\n",
    "    return (f(x+h) - f(x-h)) /(2* h)"
   ]
  },
  {
   "cell_type": "code",
   "execution_count": null,
   "metadata": {
    "collapsed": true
   },
   "outputs": [],
   "source": []
  }
 ],
 "metadata": {
  "kernelspec": {
   "display_name": "Python 2",
   "language": "python",
   "name": "python2"
  },
  "language_info": {
   "codemirror_mode": {
    "name": "ipython",
    "version": 2
   },
   "file_extension": ".py",
   "mimetype": "text/x-python",
   "name": "python",
   "nbconvert_exporter": "python",
   "pygments_lexer": "ipython2",
   "version": "2.7.6"
  }
 },
 "nbformat": 4,
 "nbformat_minor": 0
}
