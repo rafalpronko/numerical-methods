{
 "cells": [
  {
   "cell_type": "markdown",
   "metadata": {},
   "source": [
    "# Metody numeryczne"
   ]
  },
  {
   "cell_type": "markdown",
   "metadata": {},
   "source": [
    "Przed przystąpnieniem do wykonywani zadań neleży sobie przypomnieć co to jest:\n",
    "+ Błąd względny\n",
    "+ Błąd bezwzględny\n",
    "\n",
    "\n",
    "1. Należy się zarejestrować na stronie juliabox.org\n",
    "2. Ściągamy na dysk ten dokument\n",
    "3. Wgrywamy dokument na Juliabox\n",
    "4. Po skończeniu wykonywania zadań należy je zapisać na dysku jako pdf i wysłać na adres rafal.pronko@hotmail.com w tytuł wiadomości wpisując MN_151011_Imie_i_nazwisko"
   ]
  },
  {
   "cell_type": "markdown",
   "metadata": {},
   "source": [
    "** Zadanie 1**\n",
    "\n",
    "Wyjaśnij czemu tak jest?"
   ]
  },
  {
   "cell_type": "code",
   "execution_count": 1,
   "metadata": {
    "collapsed": false
   },
   "outputs": [
    {
     "data": {
      "text/plain": [
       "0.0"
      ]
     },
     "execution_count": 1,
     "metadata": {},
     "output_type": "execute_result"
    }
   ],
   "source": [
    "2006/1e309"
   ]
  },
  {
   "cell_type": "code",
   "execution_count": 2,
   "metadata": {
    "collapsed": false
   },
   "outputs": [
    {
     "data": {
      "text/plain": [
       "2.0059999999999996e-306"
      ]
     },
     "execution_count": 2,
     "metadata": {},
     "output_type": "execute_result"
    }
   ],
   "source": [
    "2.006/1e306"
   ]
  },
  {
   "cell_type": "markdown",
   "metadata": {},
   "source": [
    "** Zadanie 2 **\n",
    "\n",
    "Oblicz pochodną dla $f(x) = 7e^{0.5x}$ metodą przybiżenia: \n",
    "$$f'(x) = \\frac{f(x+h) - f(x)}{h} $$ \n",
    "\n",
    "oraz znanymi metodami na obliczanie pochodnych\n",
    "\n",
    "dla h = 0.3\n",
    "\n",
    "Dla obliczonych wartości policzyć błąd względny i bezwględny.\n",
    "\n",
    "Co zauważyłeś/aś? \n",
    "\n",
    "x należy przyjąć dowolnie - sprawdzić dla kilku wartości x."
   ]
  },
  {
   "cell_type": "code",
   "execution_count": 4,
   "metadata": {
    "collapsed": true
   },
   "outputs": [],
   "source": [
    "import math\n",
    "def f(x):\n",
    "    return 7*math.exp(0.5*x)"
   ]
  },
  {
   "cell_type": "code",
   "execution_count": 5,
   "metadata": {
    "collapsed": false
   },
   "outputs": [
    {
     "name": "stdout",
     "output_type": "stream",
     "text": [
      "11.5410488949\n"
     ]
    }
   ],
   "source": [
    "print f(1)"
   ]
  },
  {
   "cell_type": "markdown",
   "metadata": {},
   "source": [
    "** Zadanie 3 **\n",
    "\n",
    "Obliczyć przybiżenie $e^x$ wzorami Maclurina. Policzyć błąd obcięcia dla n=1, 2, 3, 4, 5, w punkcie x=1.4"
   ]
  },
  {
   "cell_type": "markdown",
   "metadata": {
    "collapsed": false
   },
   "source": [
    "** Zadanie 4 **\n",
    "\n",
    "Zweryfikować stwierdzenie: *Algorytmy równoważne matematycznie nie muszą być równoważne numerycznie*. Do weryfikacji należy użyć: $\\sqrt{x^2 + 1} - 1 = \\frac{x^2}{\\sqrt{x^2 + 1} + 1}$ gdzie $x = p^{-k}$, $ k = 1, 2, 3$ a p to dowolna liczba"
   ]
  },
  {
   "cell_type": "code",
   "execution_count": null,
   "metadata": {
    "collapsed": true
   },
   "outputs": [],
   "source": []
  }
 ],
 "metadata": {
  "kernelspec": {
   "display_name": "Python 2",
   "language": "python",
   "name": "python2"
  },
  "language_info": {
   "codemirror_mode": {
    "name": "ipython",
    "version": 2
   },
   "file_extension": ".py",
   "mimetype": "text/x-python",
   "name": "python",
   "nbconvert_exporter": "python",
   "pygments_lexer": "ipython2",
   "version": "2.7.6"
  }
 },
 "nbformat": 4,
 "nbformat_minor": 0
}
